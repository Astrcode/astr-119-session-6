{
 "cells": [
  {
   "cell_type": "code",
   "execution_count": null,
   "id": "6c76933f",
   "metadata": {},
   "outputs": [],
   "source": [
    "#Lecture 6\n",
    "%matplotlib inline\n",
    "import numpy as np\n",
    "import matplotlib.pyplot as plt"
   ]
  },
  {
   "cell_type": "code",
   "execution_count": null,
   "id": "f5f8d08f",
   "metadata": {},
   "outputs": [],
   "source": [
    "x = np.linspace(0,2*np.pi,100)\n",
    "print(x[-1],2*np.pi)\n",
    "print(\"First element of x = \",x[0])\n",
    "print(\"Last element of x = \",x[-1])\n",
    "print(\"2*pi = \",2*np.pi)"
   ]
  },
  {
   "cell_type": "code",
   "execution_count": null,
   "id": "fb1ae687",
   "metadata": {},
   "outputs": [],
   "source": [
    "y = np.sin(x)\n",
    "z = np.cos(x)\n",
    "w = np.sin(4*x)\n",
    "v = np.cos(4*x)"
   ]
  },
  {
   "cell_type": "code",
   "execution_count": null,
   "id": "4ebe19bb",
   "metadata": {},
   "outputs": [],
   "source": [
    "#call subplots to generate a multipanel figure. This means 1 row, 2 columns of figures\n",
    "f, axarr = plt. subplots(1, 2)\n",
    "\n",
    "#treat axarr as an array, from left to right\n",
    "\n",
    "#first panel\n",
    "axarr[0].plot(x, y)\n",
    "axarr[0].set_xlabel('x')\n",
    "axarr[0].set_ylabel('sin(x)')\n",
    "axarr[0].set_title(r'$\\sin(x)$')\n",
    "#second panel\n",
    "axarr[1].plot(x, z)\n",
    "axarr[1].set_xlabel('x')\n",
    "axarr[1].set_ylabel('cos(x)')\n",
    "axarr[1].set_title(r'$\\cos(x)$')\n",
    "\n",
    "#add more space between the figures\n",
    "f.subplots_adjust(wspace=0.4)\n",
    "\n",
    "#fix the sxis ratio\n",
    "#here are two possible options\n",
    "axarr[0].set_aspect('equal')    #make the ratio of the tick units equal, a bit counterintuitive\n",
    "axarr[1].set_aspect(np.pi)      #make a square by setting the aspect to be the ratio of the tick unit range"
   ]
  },
  {
   "cell_type": "code",
   "execution_count": null,
   "id": "7f7ef527",
   "metadata": {},
   "outputs": [],
   "source": [
    "##The matplotlib panels are too close together\n",
    "##\n",
    "#adjust the size of the figure\n",
    "fig = plt.figure(figsize=(6,6))\n",
    "\n",
    "plt.plot(x, y,label=r'$y = \\sin(x)$')  #add a label to the first line\n",
    "plt.plot(x, z,label=r'$y = \\cos(x)$')  #add a label to the second line\n",
    "plt.plot(x, w,label=r'$y = \\sin(4x)$') #add a label to the third line\n",
    "plt.plot(x, v,label=r'$y = \\cos(4x)$') #add a label to the fourth line\n",
    "\n",
    "plt.xlabel(r'$x$')                #note set_xlabel vs xlabel\n",
    "plt.ylabel(r'$y(x)$')             #note set_ylabel vs ylabel\n",
    "plt.xlim([0,2*np.pi])             #note set_xlim vs xlim\n",
    "plt.ylim([-1.2,1.2])              #note set_ylim vs ylim\n",
    "plt.legend(loc=1,framealpha=0.95) #add a legend with a semi-transparent frame in the upoper RH corner\n",
    "\n",
    "#fix rhe axis ratio\n",
    "plt.gca().set_aspect(np.pi/1.2)"
   ]
  },
  {
   "cell_type": "code",
   "execution_count": null,
   "id": "f0814765",
   "metadata": {},
   "outputs": [],
   "source": []
  }
 ],
 "metadata": {
  "kernelspec": {
   "display_name": "Python 3 (ipykernel)",
   "language": "python",
   "name": "python3"
  },
  "language_info": {
   "codemirror_mode": {
    "name": "ipython",
    "version": 3
   },
   "file_extension": ".py",
   "mimetype": "text/x-python",
   "name": "python",
   "nbconvert_exporter": "python",
   "pygments_lexer": "ipython3",
   "version": "3.9.7"
  }
 },
 "nbformat": 4,
 "nbformat_minor": 5
}
